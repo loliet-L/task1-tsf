{
  "cells": [
    {
      "cell_type": "markdown",
      "id": "81e499ce",
      "metadata": {
        "id": "81e499ce"
      },
      "source": [
        "# **NAME : VIVEK PRABHAKAR LONE**"
      ]
    },
    {
      "cell_type": "markdown",
      "id": "e37e3dd2",
      "metadata": {
        "id": "e37e3dd2"
      },
      "source": [
        "### *** TASK 1 : PREDICTION OF SCORE BASED ON NUMBER OF STUDY HOURS ***"
      ]
    },
    {
      "cell_type": "markdown",
      "id": "2d410de3",
      "metadata": {
        "id": "2d410de3"
      },
      "source": [
        "#### PROBLEM  STATEMENT : PREDICT THE PERCENTAGE OF STUDENT BASED ON THE NUMBER OF STUDY HOURS"
      ]
    },
    {
      "cell_type": "markdown",
      "id": "8122afd7",
      "metadata": {
        "id": "8122afd7"
      },
      "source": [
        "######  **IMPORTING REQUIRED LIBRARIES**"
      ]
    },
    {
      "cell_type": "code",
      "execution_count": null,
      "id": "f1c7c6bc",
      "metadata": {
        "id": "f1c7c6bc"
      },
      "outputs": [],
      "source": [
        "import pandas as pd\n",
        "import numpy as np  \n",
        "import matplotlib.pyplot as plt \n",
        "import seaborn as sns \n",
        "%matplotlib inline\n"
      ]
    },
    {
      "cell_type": "markdown",
      "id": "621115d9",
      "metadata": {
        "id": "621115d9"
      },
      "source": [
        "###### Reading Data from the given C.S.V File"
      ]
    },
    {
      "cell_type": "code",
      "execution_count": null,
      "id": "a3f57b4e",
      "metadata": {
        "colab": {
          "base_uri": "https://localhost:8080/",
          "height": 223
        },
        "id": "a3f57b4e",
        "outputId": "3269aa2b-52d5-4819-de61-e618c666b337"
      },
      "outputs": [
        {
          "output_type": "stream",
          "name": "stdout",
          "text": [
            "Data imported successfully\n"
          ]
        },
        {
          "output_type": "execute_result",
          "data": {
            "text/html": [
              "<div>\n",
              "<style scoped>\n",
              "    .dataframe tbody tr th:only-of-type {\n",
              "        vertical-align: middle;\n",
              "    }\n",
              "\n",
              "    .dataframe tbody tr th {\n",
              "        vertical-align: top;\n",
              "    }\n",
              "\n",
              "    .dataframe thead th {\n",
              "        text-align: right;\n",
              "    }\n",
              "</style>\n",
              "<table border=\"1\" class=\"dataframe\">\n",
              "  <thead>\n",
              "    <tr style=\"text-align: right;\">\n",
              "      <th></th>\n",
              "      <th>Hours</th>\n",
              "      <th>Scores</th>\n",
              "    </tr>\n",
              "  </thead>\n",
              "  <tbody>\n",
              "    <tr>\n",
              "      <th>0</th>\n",
              "      <td>2.5</td>\n",
              "      <td>21</td>\n",
              "    </tr>\n",
              "    <tr>\n",
              "      <th>1</th>\n",
              "      <td>5.1</td>\n",
              "      <td>47</td>\n",
              "    </tr>\n",
              "    <tr>\n",
              "      <th>2</th>\n",
              "      <td>3.2</td>\n",
              "      <td>27</td>\n",
              "    </tr>\n",
              "    <tr>\n",
              "      <th>3</th>\n",
              "      <td>8.5</td>\n",
              "      <td>75</td>\n",
              "    </tr>\n",
              "    <tr>\n",
              "      <th>4</th>\n",
              "      <td>3.5</td>\n",
              "      <td>30</td>\n",
              "    </tr>\n",
              "  </tbody>\n",
              "</table>\n",
              "</div>"
            ],
            "text/plain": [
              "   Hours  Scores\n",
              "0    2.5      21\n",
              "1    5.1      47\n",
              "2    3.2      27\n",
              "3    8.5      75\n",
              "4    3.5      30"
            ]
          },
          "metadata": {},
          "execution_count": 2
        }
      ],
      "source": [
        "link = \"http://bit.ly/w-data\"\n",
        "df = pd.read_csv(link)\\\n",
        "\n",
        "print(\"Data imported successfully\")\n",
        "\n",
        "df.head()"
      ]
    },
    {
      "cell_type": "code",
      "execution_count": null,
      "id": "ebec9e3d",
      "metadata": {
        "colab": {
          "base_uri": "https://localhost:8080/"
        },
        "id": "ebec9e3d",
        "outputId": "8c547991-c083-4a35-cff4-8389088fb7b5"
      },
      "outputs": [
        {
          "output_type": "execute_result",
          "data": {
            "text/plain": [
              "(25, 2)"
            ]
          },
          "metadata": {},
          "execution_count": 3
        }
      ],
      "source": [
        "df.shape\n"
      ]
    },
    {
      "cell_type": "markdown",
      "id": "74f80ecd",
      "metadata": {
        "id": "74f80ecd"
      },
      "source": [
        "###### There are 25 rows and 2 columns in the dataframe\n",
        "###### now lets check if there are any missing values in the dataframe"
      ]
    },
    {
      "cell_type": "code",
      "execution_count": null,
      "id": "e662bb1b",
      "metadata": {
        "colab": {
          "base_uri": "https://localhost:8080/"
        },
        "id": "e662bb1b",
        "outputId": "17b2ac49-5b81-43bb-9e97-41fbd9cb0a73"
      },
      "outputs": [
        {
          "output_type": "execute_result",
          "data": {
            "text/plain": [
              "Hours     0\n",
              "Scores    0\n",
              "dtype: int64"
            ]
          },
          "metadata": {},
          "execution_count": 4
        }
      ],
      "source": [
        "df.isnull().sum()"
      ]
    },
    {
      "cell_type": "markdown",
      "id": "09bfbdc2",
      "metadata": {
        "id": "09bfbdc2"
      },
      "source": [
        "###### from above its clear that there is no null value in the dataFrame\n",
        "###### now lets check some correlation among the DataSet"
      ]
    },
    {
      "cell_type": "code",
      "execution_count": null,
      "id": "55f3219f",
      "metadata": {
        "colab": {
          "base_uri": "https://localhost:8080/",
          "height": 112
        },
        "id": "55f3219f",
        "outputId": "c1a1de23-a7dc-4efb-e634-eff2292f8754"
      },
      "outputs": [
        {
          "output_type": "execute_result",
          "data": {
            "text/html": [
              "<div>\n",
              "<style scoped>\n",
              "    .dataframe tbody tr th:only-of-type {\n",
              "        vertical-align: middle;\n",
              "    }\n",
              "\n",
              "    .dataframe tbody tr th {\n",
              "        vertical-align: top;\n",
              "    }\n",
              "\n",
              "    .dataframe thead th {\n",
              "        text-align: right;\n",
              "    }\n",
              "</style>\n",
              "<table border=\"1\" class=\"dataframe\">\n",
              "  <thead>\n",
              "    <tr style=\"text-align: right;\">\n",
              "      <th></th>\n",
              "      <th>Hours</th>\n",
              "      <th>Scores</th>\n",
              "    </tr>\n",
              "  </thead>\n",
              "  <tbody>\n",
              "    <tr>\n",
              "      <th>Hours</th>\n",
              "      <td>1.000000</td>\n",
              "      <td>0.976191</td>\n",
              "    </tr>\n",
              "    <tr>\n",
              "      <th>Scores</th>\n",
              "      <td>0.976191</td>\n",
              "      <td>1.000000</td>\n",
              "    </tr>\n",
              "  </tbody>\n",
              "</table>\n",
              "</div>"
            ],
            "text/plain": [
              "           Hours    Scores\n",
              "Hours   1.000000  0.976191\n",
              "Scores  0.976191  1.000000"
            ]
          },
          "metadata": {},
          "execution_count": 5
        }
      ],
      "source": [
        "df.corr()"
      ]
    },
    {
      "cell_type": "markdown",
      "id": "05867d91",
      "metadata": {
        "id": "05867d91"
      },
      "source": [
        "###### from above its clear that there is a strong correlation between Hours and Scores"
      ]
    },
    {
      "cell_type": "markdown",
      "id": "0fa6c201",
      "metadata": {
        "id": "0fa6c201"
      },
      "source": [
        "### Now lets plot the grapht to check the relation between hours and score"
      ]
    },
    {
      "cell_type": "code",
      "execution_count": null,
      "id": "561a8889",
      "metadata": {
        "colab": {
          "base_uri": "https://localhost:8080/",
          "height": 295
        },
        "id": "561a8889",
        "outputId": "90433c78-093f-4184-aed8-2ca6b671019d"
      },
      "outputs": [
        {
          "output_type": "display_data",
          "data": {
            "image/png": "[encoded data removed]",
            "text/plain": [
              "<Figure size 432x288 with 1 Axes>"
            ]
          },
          "metadata": {
            "needs_background": "light"
          }
        }
      ],
      "source": [
        "df.plot(x='Hours', y='Scores', style='o')  \n",
        "plt.title('Hours vs Percentage')  \n",
        "plt.xlabel('Hours Studied')  \n",
        "plt.ylabel('Percentage Score')  \n",
        "plt.show()"
      ]
    },
    {
      "cell_type": "markdown",
      "id": "da39fbe3",
      "metadata": {
        "id": "da39fbe3"
      },
      "source": [
        "###  From the above Graph its clear the there is a Linear Relationship between students study hours and scores\n",
        "##### now lets seperate the df as \"train\"  and \"test\""
      ]
    },
    {
      "cell_type": "code",
      "execution_count": null,
      "id": "11dcbe5b",
      "metadata": {
        "id": "11dcbe5b"
      },
      "outputs": [],
      "source": [
        "train=df[:16]\n",
        "test=df[16:26]"
      ]
    },
    {
      "cell_type": "markdown",
      "id": "28daaabc",
      "metadata": {
        "id": "28daaabc"
      },
      "source": [
        "###### now lets seperate data for trainning on x and y axis "
      ]
    },
    {
      "cell_type": "code",
      "execution_count": null,
      "id": "fbfe74a4",
      "metadata": {
        "colab": {
          "base_uri": "https://localhost:8080/",
          "height": 551
        },
        "id": "fbfe74a4",
        "outputId": "9a5e18f9-9363-4a31-f4c5-17bf34823303"
      },
      "outputs": [
        {
          "output_type": "execute_result",
          "data": {
            "text/html": [
              "<div>\n",
              "<style scoped>\n",
              "    .dataframe tbody tr th:only-of-type {\n",
              "        vertical-align: middle;\n",
              "    }\n",
              "\n",
              "    .dataframe tbody tr th {\n",
              "        vertical-align: top;\n",
              "    }\n",
              "\n",
              "    .dataframe thead th {\n",
              "        text-align: right;\n",
              "    }\n",
              "</style>\n",
              "<table border=\"1\" class=\"dataframe\">\n",
              "  <thead>\n",
              "    <tr style=\"text-align: right;\">\n",
              "      <th></th>\n",
              "      <th>Hours</th>\n",
              "    </tr>\n",
              "  </thead>\n",
              "  <tbody>\n",
              "    <tr>\n",
              "      <th>0</th>\n",
              "      <td>2.5</td>\n",
              "    </tr>\n",
              "    <tr>\n",
              "      <th>1</th>\n",
              "      <td>5.1</td>\n",
              "    </tr>\n",
              "    <tr>\n",
              "      <th>2</th>\n",
              "      <td>3.2</td>\n",
              "    </tr>\n",
              "    <tr>\n",
              "      <th>3</th>\n",
              "      <td>8.5</td>\n",
              "    </tr>\n",
              "    <tr>\n",
              "      <th>4</th>\n",
              "      <td>3.5</td>\n",
              "    </tr>\n",
              "    <tr>\n",
              "      <th>5</th>\n",
              "      <td>1.5</td>\n",
              "    </tr>\n",
              "    <tr>\n",
              "      <th>6</th>\n",
              "      <td>9.2</td>\n",
              "    </tr>\n",
              "    <tr>\n",
              "      <th>7</th>\n",
              "      <td>5.5</td>\n",
              "    </tr>\n",
              "    <tr>\n",
              "      <th>8</th>\n",
              "      <td>8.3</td>\n",
              "    </tr>\n",
              "    <tr>\n",
              "      <th>9</th>\n",
              "      <td>2.7</td>\n",
              "    </tr>\n",
              "    <tr>\n",
              "      <th>10</th>\n",
              "      <td>7.7</td>\n",
              "    </tr>\n",
              "    <tr>\n",
              "      <th>11</th>\n",
              "      <td>5.9</td>\n",
              "    </tr>\n",
              "    <tr>\n",
              "      <th>12</th>\n",
              "      <td>4.5</td>\n",
              "    </tr>\n",
              "    <tr>\n",
              "      <th>13</th>\n",
              "      <td>3.3</td>\n",
              "    </tr>\n",
              "    <tr>\n",
              "      <th>14</th>\n",
              "      <td>1.1</td>\n",
              "    </tr>\n",
              "    <tr>\n",
              "      <th>15</th>\n",
              "      <td>8.9</td>\n",
              "    </tr>\n",
              "  </tbody>\n",
              "</table>\n",
              "</div>"
            ],
            "text/plain": [
              "    Hours\n",
              "0     2.5\n",
              "1     5.1\n",
              "2     3.2\n",
              "3     8.5\n",
              "4     3.5\n",
              "5     1.5\n",
              "6     9.2\n",
              "7     5.5\n",
              "8     8.3\n",
              "9     2.7\n",
              "10    7.7\n",
              "11    5.9\n",
              "12    4.5\n",
              "13    3.3\n",
              "14    1.1\n",
              "15    8.9"
            ]
          },
          "metadata": {},
          "execution_count": 8
        }
      ],
      "source": [
        "x_train = train.drop(\"Scores\",axis=1)\n",
        "x_train\n"
      ]
    },
    {
      "cell_type": "markdown",
      "id": "645a3089",
      "metadata": {
        "id": "645a3089"
      },
      "source": [
        "##### now x_train contains on study hours\n"
      ]
    },
    {
      "cell_type": "code",
      "execution_count": null,
      "id": "27c0bdca",
      "metadata": {
        "colab": {
          "base_uri": "https://localhost:8080/"
        },
        "id": "27c0bdca",
        "outputId": "22c8023c-1e13-44cb-d29b-32127d812c3b"
      },
      "outputs": [
        {
          "output_type": "execute_result",
          "data": {
            "text/plain": [
              "0     21\n",
              "1     47\n",
              "2     27\n",
              "3     75\n",
              "4     30\n",
              "5     20\n",
              "6     88\n",
              "7     60\n",
              "8     81\n",
              "9     25\n",
              "10    85\n",
              "11    62\n",
              "12    41\n",
              "13    42\n",
              "14    17\n",
              "15    95\n",
              "Name: Scores, dtype: int64"
            ]
          },
          "metadata": {},
          "execution_count": 9
        }
      ],
      "source": [
        "y_train=train['Scores']\n",
        "y_train\n"
      ]
    },
    {
      "cell_type": "markdown",
      "id": "2fc7c1b3",
      "metadata": {
        "id": "2fc7c1b3"
      },
      "source": [
        "##### now y_train contains Scores which is our dependent variable"
      ]
    },
    {
      "cell_type": "markdown",
      "id": "960202f5",
      "metadata": {
        "id": "960202f5"
      },
      "source": [
        "##### similarly we'll do the same for testing purpose to later check our model predtion"
      ]
    },
    {
      "cell_type": "code",
      "execution_count": null,
      "id": "2360d902",
      "metadata": {
        "colab": {
          "base_uri": "https://localhost:8080/",
          "height": 331
        },
        "id": "2360d902",
        "outputId": "09e8249c-71d5-40be-f9cc-6bff56124dfb"
      },
      "outputs": [
        {
          "output_type": "execute_result",
          "data": {
            "text/html": [
              "<div>\n",
              "<style scoped>\n",
              "    .dataframe tbody tr th:only-of-type {\n",
              "        vertical-align: middle;\n",
              "    }\n",
              "\n",
              "    .dataframe tbody tr th {\n",
              "        vertical-align: top;\n",
              "    }\n",
              "\n",
              "    .dataframe thead th {\n",
              "        text-align: right;\n",
              "    }\n",
              "</style>\n",
              "<table border=\"1\" class=\"dataframe\">\n",
              "  <thead>\n",
              "    <tr style=\"text-align: right;\">\n",
              "      <th></th>\n",
              "      <th>Hours</th>\n",
              "    </tr>\n",
              "  </thead>\n",
              "  <tbody>\n",
              "    <tr>\n",
              "      <th>16</th>\n",
              "      <td>2.5</td>\n",
              "    </tr>\n",
              "    <tr>\n",
              "      <th>17</th>\n",
              "      <td>1.9</td>\n",
              "    </tr>\n",
              "    <tr>\n",
              "      <th>18</th>\n",
              "      <td>6.1</td>\n",
              "    </tr>\n",
              "    <tr>\n",
              "      <th>19</th>\n",
              "      <td>7.4</td>\n",
              "    </tr>\n",
              "    <tr>\n",
              "      <th>20</th>\n",
              "      <td>2.7</td>\n",
              "    </tr>\n",
              "    <tr>\n",
              "      <th>21</th>\n",
              "      <td>4.8</td>\n",
              "    </tr>\n",
              "    <tr>\n",
              "      <th>22</th>\n",
              "      <td>3.8</td>\n",
              "    </tr>\n",
              "    <tr>\n",
              "      <th>23</th>\n",
              "      <td>6.9</td>\n",
              "    </tr>\n",
              "    <tr>\n",
              "      <th>24</th>\n",
              "      <td>7.8</td>\n",
              "    </tr>\n",
              "  </tbody>\n",
              "</table>\n",
              "</div>"
            ],
            "text/plain": [
              "    Hours\n",
              "16    2.5\n",
              "17    1.9\n",
              "18    6.1\n",
              "19    7.4\n",
              "20    2.7\n",
              "21    4.8\n",
              "22    3.8\n",
              "23    6.9\n",
              "24    7.8"
            ]
          },
          "metadata": {},
          "execution_count": 10
        }
      ],
      "source": [
        "x_test=test.drop('Scores',axis=1)\n",
        "x_test"
      ]
    },
    {
      "cell_type": "code",
      "execution_count": null,
      "id": "6a80a31b",
      "metadata": {
        "colab": {
          "base_uri": "https://localhost:8080/"
        },
        "id": "6a80a31b",
        "outputId": "e3472038-70f7-44fa-d203-8f0c3fc2a762"
      },
      "outputs": [
        {
          "output_type": "execute_result",
          "data": {
            "text/plain": [
              "16    30\n",
              "17    24\n",
              "18    67\n",
              "19    69\n",
              "20    30\n",
              "21    54\n",
              "22    35\n",
              "23    76\n",
              "24    86\n",
              "Name: Scores, dtype: int64"
            ]
          },
          "metadata": {},
          "execution_count": 11
        }
      ],
      "source": [
        "y_test=test['Scores']\n",
        "y_test"
      ]
    },
    {
      "cell_type": "markdown",
      "id": "be2c6db4",
      "metadata": {
        "id": "be2c6db4"
      },
      "source": [
        "## Training the Algorithm"
      ]
    },
    {
      "cell_type": "markdown",
      "id": "78254bd1",
      "metadata": {
        "id": "78254bd1"
      },
      "source": [
        "#### from sckit learn importing linear regression model to train or data"
      ]
    },
    {
      "cell_type": "code",
      "execution_count": null,
      "id": "e712d73a",
      "metadata": {
        "id": "e712d73a"
      },
      "outputs": [],
      "source": [
        "from sklearn.linear_model import LinearRegression"
      ]
    },
    {
      "cell_type": "markdown",
      "source": [
        "#### succesfully imported Linear Regression"
      ],
      "metadata": {
        "id": "Dd5_w5-lF0e4"
      },
      "id": "Dd5_w5-lF0e4"
    },
    {
      "cell_type": "markdown",
      "source": [
        "### Training Our Data"
      ],
      "metadata": {
        "id": "pf-bWLs4GAWl"
      },
      "id": "pf-bWLs4GAWl"
    },
    {
      "cell_type": "code",
      "source": [
        "Lreg=LinearRegression()"
      ],
      "metadata": {
        "id": "sfx4mcDoGHAB"
      },
      "id": "sfx4mcDoGHAB",
      "execution_count": null,
      "outputs": []
    },
    {
      "cell_type": "code",
      "source": [
        "Lreg.fit(x_train,y_train)"
      ],
      "metadata": {
        "colab": {
          "base_uri": "https://localhost:8080/"
        },
        "id": "_5wSh7-LGURo",
        "outputId": "d93c5337-4fe8-498d-f238-1a9b6991e6d2"
      },
      "id": "_5wSh7-LGURo",
      "execution_count": null,
      "outputs": [
        {
          "output_type": "execute_result",
          "data": {
            "text/plain": [
              "LinearRegression()"
            ]
          },
          "metadata": {},
          "execution_count": 14
        }
      ]
    },
    {
      "cell_type": "markdown",
      "source": [
        "## **Prediction**"
      ],
      "metadata": {
        "id": "9MunpMqpGrnr"
      },
      "id": "9MunpMqpGrnr"
    },
    {
      "cell_type": "markdown",
      "source": [
        "#### now our model is ready to predict values lets check our tests"
      ],
      "metadata": {
        "id": "sl5HdaGOHrSd"
      },
      "id": "sl5HdaGOHrSd"
    },
    {
      "cell_type": "code",
      "source": [
        "pred = Lreg.predict(x_test)\n",
        "pred"
      ],
      "metadata": {
        "colab": {
          "base_uri": "https://localhost:8080/"
        },
        "id": "44giTVZ0Gl_3",
        "outputId": "a774f6b2-0276-4b22-b6f5-49b9428be3f8"
      },
      "id": "44giTVZ0Gl_3",
      "execution_count": null,
      "outputs": [
        {
          "output_type": "execute_result",
          "data": {
            "text/plain": [
              "array([25.86233601, 20.03331247, 60.83647721, 73.46602821, 27.80534385,\n",
              "       48.20692622, 38.491887  , 68.60850859, 77.3520439 ])"
            ]
          },
          "metadata": {},
          "execution_count": 15
        }
      ]
    },
    {
      "cell_type": "markdown",
      "source": [
        "#### Now lets compare with our Y_test values"
      ],
      "metadata": {
        "id": "EH6_iLsvH2NR"
      },
      "id": "EH6_iLsvH2NR"
    },
    {
      "cell_type": "code",
      "source": [
        "y_test"
      ],
      "metadata": {
        "colab": {
          "base_uri": "https://localhost:8080/"
        },
        "id": "Co8sXBYVHGaj",
        "outputId": "ed697308-1524-4567-c47d-652b6de5842b"
      },
      "id": "Co8sXBYVHGaj",
      "execution_count": null,
      "outputs": [
        {
          "output_type": "execute_result",
          "data": {
            "text/plain": [
              "16    30\n",
              "17    24\n",
              "18    67\n",
              "19    69\n",
              "20    30\n",
              "21    54\n",
              "22    35\n",
              "23    76\n",
              "24    86\n",
              "Name: Scores, dtype: int64"
            ]
          },
          "metadata": {},
          "execution_count": 16
        }
      ]
    },
    {
      "cell_type": "markdown",
      "source": [
        "### ***lets arrange  both true value and predict value to better understand how accurately oue model predict ***"
      ],
      "metadata": {
        "id": "JBy77HoPIDt8"
      },
      "id": "JBy77HoPIDt8"
    },
    {
      "cell_type": "code",
      "source": [
        "dataFrame=pd.DataFrame({'Actual values' : y_test,'Predicted values': pred})\n",
        "dataFrame"
      ],
      "metadata": {
        "colab": {
          "base_uri": "https://localhost:8080/",
          "height": 331
        },
        "id": "6j1ilxClIbgY",
        "outputId": "364edbfc-c07d-4053-a30a-e2334b1d9c4b"
      },
      "id": "6j1ilxClIbgY",
      "execution_count": null,
      "outputs": [
        {
          "output_type": "execute_result",
          "data": {
            "text/html": [
              "<div>\n",
              "<style scoped>\n",
              "    .dataframe tbody tr th:only-of-type {\n",
              "        vertical-align: middle;\n",
              "    }\n",
              "\n",
              "    .dataframe tbody tr th {\n",
              "        vertical-align: top;\n",
              "    }\n",
              "\n",
              "    .dataframe thead th {\n",
              "        text-align: right;\n",
              "    }\n",
              "</style>\n",
              "<table border=\"1\" class=\"dataframe\">\n",
              "  <thead>\n",
              "    <tr style=\"text-align: right;\">\n",
              "      <th></th>\n",
              "      <th>Actual values</th>\n",
              "      <th>Predicted values</th>\n",
              "    </tr>\n",
              "  </thead>\n",
              "  <tbody>\n",
              "    <tr>\n",
              "      <th>16</th>\n",
              "      <td>30</td>\n",
              "      <td>25.862336</td>\n",
              "    </tr>\n",
              "    <tr>\n",
              "      <th>17</th>\n",
              "      <td>24</td>\n",
              "      <td>20.033312</td>\n",
              "    </tr>\n",
              "    <tr>\n",
              "      <th>18</th>\n",
              "      <td>67</td>\n",
              "      <td>60.836477</td>\n",
              "    </tr>\n",
              "    <tr>\n",
              "      <th>19</th>\n",
              "      <td>69</td>\n",
              "      <td>73.466028</td>\n",
              "    </tr>\n",
              "    <tr>\n",
              "      <th>20</th>\n",
              "      <td>30</td>\n",
              "      <td>27.805344</td>\n",
              "    </tr>\n",
              "    <tr>\n",
              "      <th>21</th>\n",
              "      <td>54</td>\n",
              "      <td>48.206926</td>\n",
              "    </tr>\n",
              "    <tr>\n",
              "      <th>22</th>\n",
              "      <td>35</td>\n",
              "      <td>38.491887</td>\n",
              "    </tr>\n",
              "    <tr>\n",
              "      <th>23</th>\n",
              "      <td>76</td>\n",
              "      <td>68.608509</td>\n",
              "    </tr>\n",
              "    <tr>\n",
              "      <th>24</th>\n",
              "      <td>86</td>\n",
              "      <td>77.352044</td>\n",
              "    </tr>\n",
              "  </tbody>\n",
              "</table>\n",
              "</div>"
            ],
            "text/plain": [
              "    Actual values  Predicted values\n",
              "16             30         25.862336\n",
              "17             24         20.033312\n",
              "18             67         60.836477\n",
              "19             69         73.466028\n",
              "20             30         27.805344\n",
              "21             54         48.206926\n",
              "22             35         38.491887\n",
              "23             76         68.608509\n",
              "24             86         77.352044"
            ]
          },
          "metadata": {},
          "execution_count": 17
        }
      ]
    },
    {
      "cell_type": "code",
      "source": [
        "Lreg.score(x_test,y_test)"
      ],
      "metadata": {
        "colab": {
          "base_uri": "https://localhost:8080/"
        },
        "id": "JS052ir1H75P",
        "outputId": "8e6c0b4e-676b-425d-afbc-22573f2302a6"
      },
      "id": "JS052ir1H75P",
      "execution_count": null,
      "outputs": [
        {
          "output_type": "execute_result",
          "data": {
            "text/plain": [
              "0.9368811005792516"
            ]
          },
          "metadata": {},
          "execution_count": 18
        }
      ]
    },
    {
      "cell_type": "code",
      "source": [
        "Lreg.score(x_train,y_train)"
      ],
      "metadata": {
        "colab": {
          "base_uri": "https://localhost:8080/"
        },
        "id": "eQigsgv5I3nE",
        "outputId": "d0ad9fd8-ab97-4455-ebb3-2f088e6b299a"
      },
      "id": "eQigsgv5I3nE",
      "execution_count": null,
      "outputs": [
        {
          "output_type": "execute_result",
          "data": {
            "text/plain": [
              "0.955760739157577"
            ]
          },
          "metadata": {},
          "execution_count": 19
        }
      ]
    },
    {
      "cell_type": "markdown",
      "source": [
        "### hence from above score its clear that our training is done well"
      ],
      "metadata": {
        "id": "NRsmgGc7JEaB"
      },
      "id": "NRsmgGc7JEaB"
    },
    {
      "cell_type": "markdown",
      "source": [
        "#### now lets predict for 11 hours of study using our build model"
      ],
      "metadata": {
        "id": "GzSz7MYPJQvu"
      },
      "id": "GzSz7MYPJQvu"
    },
    {
      "cell_type": "code",
      "source": [
        "New_output=Lreg.predict([[11]])\n",
        "New_output"
      ],
      "metadata": {
        "colab": {
          "base_uri": "https://localhost:8080/"
        },
        "id": "cUuMUQBTI9D0",
        "outputId": "3411570f-5a57-455b-f78a-15af573641ac"
      },
      "id": "cUuMUQBTI9D0",
      "execution_count": null,
      "outputs": [
        {
          "output_type": "stream",
          "name": "stderr",
          "text": [
            "/usr/local/lib/python3.7/dist-packages/sklearn/base.py:446: UserWarning: X does not have valid feature names, but LinearRegression was fitted with feature names\n",
            "  \"X does not have valid feature names, but\"\n"
          ]
        },
        {
          "output_type": "execute_result",
          "data": {
            "text/plain": [
              "array([108.44016941])"
            ]
          },
          "metadata": {},
          "execution_count": 30
        }
      ]
    },
    {
      "cell_type": "markdown",
      "source": [
        "# **THANK YOU**"
      ],
      "metadata": {
        "id": "ryTO5qiVJ8Jm"
      },
      "id": "ryTO5qiVJ8Jm"
    }
  ],
  "metadata": {
    "kernelspec": {
      "display_name": "Python 3 (ipykernel)",
      "language": "python",
      "name": "python3"
    },
    "language_info": {
      "codemirror_mode": {
        "name": "ipython",
        "version": 3
      },
      "file_extension": ".py",
      "mimetype": "text/x-python",
      "name": "python",
      "nbconvert_exporter": "python",
      "pygments_lexer": "ipython3",
      "version": "3.10.0"
    },
    "colab": {
      "name": "Task1TSF.ipynb",
      "provenance": [],
      "collapsed_sections": []
    }
  },
  "nbformat": 4,
  "nbformat_minor": 5
}